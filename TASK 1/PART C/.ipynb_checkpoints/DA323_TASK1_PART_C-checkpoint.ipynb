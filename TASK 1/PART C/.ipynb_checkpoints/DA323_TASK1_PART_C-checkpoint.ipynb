{
 "cells": [
  {
   "cell_type": "markdown",
   "id": "b69b0ca4",
   "metadata": {},
   "source": [
    "# Audio Dataset Collection Notebook: RadioStream Chronicles\n",
    "\n",
    "**Overview:**  \n",
    "This notebook demonstrates a scalable method for collecting audio streams from online AM/FM radio stations. We will:\n",
    "- Identify a set of publicly available radio streams.\n",
    "- Record audio for a random duration between 30 and 90 seconds using an automated script with `ffmpeg`.\n",
    "- Save 30 audio recordings in MP3 format.\n",
    "- Collect metadata (station name, timestamp, and duration) and save it in a CSV file.\n",
    "- Demonstrate a basic use case by visualizing the distribution of recording durations and plotting a waveform from one sample recording.\n",
    "\n",
    "**Dataset Name:**  \n",
    "*RadioStream Chronicles*\n"
   ]
  },
  {
   "cell_type": "code",
   "execution_count": 1,
   "id": "835ba817",
   "metadata": {},
   "outputs": [
    {
     "name": "stderr",
     "output_type": "stream",
     "text": [
      "C:\\Users\\iitia\\anaconda3\\Lib\\site-packages\\pandas\\core\\arrays\\masked.py:60: UserWarning: Pandas requires version '1.3.6' or newer of 'bottleneck' (version '1.3.5' currently installed).\n",
      "  from pandas.core import (\n",
      "C:\\Users\\iitia\\anaconda3\\Lib\\site-packages\\pydub\\utils.py:170: RuntimeWarning: Couldn't find ffmpeg or avconv - defaulting to ffmpeg, but may not work\n",
      "  warn(\"Couldn't find ffmpeg or avconv - defaulting to ffmpeg, but may not work\", RuntimeWarning)\n"
     ]
    }
   ],
   "source": [
    "# Step 1: Import necessary libraries\n",
    "\n",
    "import os\n",
    "import subprocess\n",
    "import time\n",
    "import datetime\n",
    "import random\n",
    "import pandas as pd\n",
    "from pydub import AudioSegment  \n",
    "import matplotlib.pyplot as plt\n",
    "\n",
    "\n",
    "%matplotlib inline\n"
   ]
  },
  {
   "cell_type": "markdown",
   "id": "6450ead2",
   "metadata": {},
   "source": [
    "## Step 2: Define a List of Online Radio Stations\n",
    "\n",
    "For this example, we define a list of radio stations with their names and stream URLs.  \n",
    "> **Note:** Replace or add station URLs with valid ones as needed.\n"
   ]
  },
  {
   "cell_type": "code",
   "execution_count": 2,
   "id": "ba492443",
   "metadata": {},
   "outputs": [],
   "source": [
    "\n",
    "radio_stations = [\n",
    "    {\"name\": \"NPR\", \"stream_url\": \"http://npr-ice.streamguys1.com/live.mp3\"},\n",
    "    {\"name\": \"Radio Paradise\", \"stream_url\": \"http://stream.radioparadise.com/mp3-192\"},\n",
    "    {\"name\": \"Classic FM\", \"stream_url\": \"http://media-ssl.musicradio.com/ClassicFMMP3\"},\n",
    "    {\"name\": \"SomaFM - Groove Salad\", \"stream_url\": \"http://ice1.somafm.com/groovesalad-128-mp3\"},\n",
    "    {\"name\": \"SomaFM - Drone Zone\", \"stream_url\": \"http://ice1.somafm.com/dronezone-128-mp3\"},\n",
    "    # Add more stations accordingly\n",
    "    \n",
    "   \n",
    "]\n"
   ]
  },
  {
   "cell_type": "markdown",
   "id": "eceb9bb9",
   "metadata": {},
   "source": [
    "## Step 3: Define a Function to Record Audio Streams\n",
    "\n",
    "This function uses `ffmpeg` to record a given station’s stream for a specified duration.\n",
    "- The recorded file is saved in MP3 format.\n",
    "- If recording fails, it will print an error message.\n"
   ]
  },
  {
   "cell_type": "code",
   "execution_count": 3,
   "id": "8f276c08",
   "metadata": {},
   "outputs": [],
   "source": [
    "def record_stream(station, duration, output_filename):\n",
    "    \"\"\"\n",
    "    Record an audio stream from a given radio station for a specified duration.\n",
    "    \n",
    "    Parameters:\n",
    "      - station (dict): Contains 'name' and 'stream_url'.\n",
    "      - duration (int): Duration in seconds for recording.\n",
    "      - output_filename (str): Destination file path.\n",
    "      \n",
    "    Returns:\n",
    "      - bool: True if recording succeeded, False otherwise.\n",
    "    \"\"\"\n",
    "    ffmpeg_path = r\"C:\\ffmpeg-master-latest-win64-gpl-shared\\ffmpeg-master-latest-win64-gpl-shared\\bin\\ffmpeg.exe\"  \n",
    "    cmd = [\n",
    "        ffmpeg_path,\n",
    "        \"-y\",\n",
    "        \"-i\", station[\"stream_url\"],\n",
    "        \"-t\", str(duration),\n",
    "        \"-acodec\", \"copy\",\n",
    "        output_filename\n",
    "    ]\n",
    "    try:\n",
    "        subprocess.run(cmd, stdout=subprocess.PIPE, stderr=subprocess.PIPE, check=True)\n",
    "        return True\n",
    "    except subprocess.CalledProcessError as e:\n",
    "        print(f\"Error recording {station['name']} stream: {e}\")\n",
    "        return False\n"
   ]
  },
  {
   "cell_type": "markdown",
   "id": "1587fb35",
   "metadata": {},
   "source": [
    "## Step 4: Record Multiple Audio Streams and Save Metadata\n",
    "\n",
    "We now loop to record 30 audio files:\n",
    "- Each recording is from a randomly selected station.\n",
    "- The duration is randomly chosen between 30 and 90 seconds.\n",
    "- Each recording is saved with a timestamp-based filename.\n",
    "- Metadata (station name, timestamp, duration, and filename) is stored and then saved to a CSV file.\n"
   ]
  },
  {
   "cell_type": "code",
   "execution_count": 5,
   "id": "d3a1af7d",
   "metadata": {},
   "outputs": [
    {
     "name": "stdout",
     "output_type": "stream",
     "text": [
      "Attempt 1/30: Recording Classic FM for 33 seconds...\n",
      "Attempt 2/30: Recording SomaFM - Drone Zone for 66 seconds...\n",
      "Attempt 3/30: Recording NPR for 55 seconds...\n",
      "Attempt 4/30: Recording Classic FM for 39 seconds...\n",
      "Attempt 5/30: Recording Classic FM for 82 seconds...\n",
      "Attempt 6/30: Recording NPR for 80 seconds...\n",
      "Attempt 7/30: Recording NPR for 81 seconds...\n",
      "Attempt 8/30: Recording SomaFM - Drone Zone for 88 seconds...\n",
      "Attempt 9/30: Recording Classic FM for 47 seconds...\n",
      "Attempt 10/30: Recording Classic FM for 82 seconds...\n",
      "Attempt 11/30: Recording SomaFM - Groove Salad for 69 seconds...\n",
      "Attempt 12/30: Recording Classic FM for 80 seconds...\n",
      "Attempt 13/30: Recording SomaFM - Groove Salad for 55 seconds...\n",
      "Attempt 14/30: Recording NPR for 42 seconds...\n",
      "Attempt 15/30: Recording Radio Paradise for 33 seconds...\n",
      "Attempt 16/30: Recording NPR for 54 seconds...\n",
      "Attempt 17/30: Recording Classic FM for 35 seconds...\n",
      "Attempt 18/30: Recording Classic FM for 33 seconds...\n",
      "Attempt 19/30: Recording SomaFM - Groove Salad for 80 seconds...\n",
      "Attempt 20/30: Recording NPR for 69 seconds...\n",
      "Attempt 21/30: Recording SomaFM - Groove Salad for 86 seconds...\n",
      "Attempt 22/30: Recording SomaFM - Groove Salad for 84 seconds...\n",
      "Attempt 23/30: Recording Classic FM for 85 seconds...\n",
      "Attempt 24/30: Recording Radio Paradise for 62 seconds...\n",
      "Attempt 25/30: Recording SomaFM - Drone Zone for 48 seconds...\n",
      "Attempt 26/30: Recording SomaFM - Drone Zone for 55 seconds...\n",
      "Attempt 27/30: Recording SomaFM - Drone Zone for 45 seconds...\n",
      "Attempt 28/30: Recording SomaFM - Groove Salad for 41 seconds...\n",
      "Attempt 29/30: Recording SomaFM - Drone Zone for 40 seconds...\n",
      "Attempt 30/30: Recording Radio Paradise for 80 seconds...\n",
      "\n",
      "All 30 recordings successfully completed.\n",
      "Metadata saved to radio_recordings\\metadata.csv\n"
     ]
    }
   ],
   "source": [
    "# Directory to store audio recordings\n",
    "output_dir = \"RadioStream Chronicles\"\n",
    "if not os.path.exists(output_dir):\n",
    "    os.makedirs(output_dir)\n",
    "\n",
    "metadata_list = []  # To collect metadata for each recording\n",
    "num_recordings = 30  # Total number of successful recordings\n",
    "successful_recordings = 0  # Counter for successful recordings\n",
    "\n",
    "while successful_recordings < num_recordings:\n",
    "    # Randomly select a radio station from the list\n",
    "    station = random.choice(radio_stations)\n",
    "    # Randomly choose a duration between 30 and 90 seconds\n",
    "    duration = random.randint(30, 90)\n",
    "    # Create a timestamp for naming\n",
    "    timestamp = datetime.datetime.now().strftime(\"%Y%m%d_%H%M%S\")\n",
    "    # Generate a sanitized output filename\n",
    "    filename_base = station[\"name\"].replace(\" \", \"_\")\n",
    "    output_filename = os.path.join(output_dir, f\"{filename_base}_{timestamp}.mp3\")\n",
    "    \n",
    "    print(f\"Attempt {successful_recordings+1}/{num_recordings}: Recording {station['name']} for {duration} seconds...\")\n",
    "    success = record_stream(station, duration, output_filename)\n",
    "    \n",
    "    if success:\n",
    "        metadata_list.append({\n",
    "            \"station_name\": station[\"name\"],\n",
    "            \"timestamp\": timestamp,\n",
    "            \"duration\": duration,\n",
    "            \"filename\": output_filename\n",
    "        })\n",
    "        successful_recordings += 1  # Only increment if recording succeeds\n",
    "    else:\n",
    "        print(\"Recording failed, retrying with another station...\")\n",
    "\n",
    "    # Pause briefly to prevent rapid consecutive requests\n",
    "    time.sleep(2)\n",
    "\n",
    "# Save the metadata as a CSV file for future reference\n",
    "metadata_df = pd.DataFrame(metadata_list)\n",
    "metadata_csv_path = os.path.join(output_dir, \"metadata.csv\")\n",
    "metadata_df.to_csv(metadata_csv_path, index=False)\n",
    "print(f\"\\nAll {num_recordings} recordings successfully completed.\")\n",
    "print(f\"Metadata saved to {metadata_csv_path}\")\n"
   ]
  },
  {
   "cell_type": "markdown",
   "id": "52b32d34",
   "metadata": {},
   "source": [
    "## Step 5: Demonstrate a Use Case for the Dataset\n",
    "\n",
    "**Use Case:** \n",
    "- Visualize the distribution of recording durations and inspect the waveform of one sample recording.  \n",
    "- This analysis could help in understanding variations in stream content duration or serve as a preliminary step toward further audio signal processing tasks.\n"
   ]
  },
  {
   "cell_type": "code",
   "execution_count": 5,
   "id": "aec303ae",
   "metadata": {},
   "outputs": [],
   "source": [
    "output_dir=\"radio_recordings\"\n",
    "metadata_csv_path = os.path.join(output_dir, \"metadata.csv\")\n",
    "metadata_df=pd.read_csv(metadata_csv_path)"
   ]
  },
  {
   "cell_type": "code",
   "execution_count": 6,
   "id": "6d462eff",
   "metadata": {},
   "outputs": [
    {
     "data": {
      "image/png": "[encoded data removed]",
      "text/plain": [
       "<Figure size 800x400 with 1 Axes>"
      ]
     },
     "metadata": {},
     "output_type": "display_data"
    }
   ],
   "source": [
    "# Plotting the distribution of recording durations\n",
    "\n",
    "plt.figure(figsize=(8, 4))\n",
    "plt.hist(metadata_df['duration'], bins=10, color='skyblue', edgecolor='black')\n",
    "plt.title(\"Distribution of Recording Durations\")\n",
    "plt.xlabel(\"Duration (seconds)\")\n",
    "plt.ylabel(\"Frequency\")\n",
    "plt.show()\n"
   ]
  },
  {
   "cell_type": "code",
   "execution_count": 14,
   "id": "d3d40d4c",
   "metadata": {},
   "outputs": [
    {
     "name": "stdout",
     "output_type": "stream",
     "text": [
      "Requirement already satisfied: numba in c:\\users\\iitia\\anaconda3\\lib\\site-packages (0.57.1)\n",
      "Collecting numba\n",
      "  Downloading numba-0.61.0-cp311-cp311-win_amd64.whl.metadata (2.8 kB)\n",
      "Collecting llvmlite<0.45,>=0.44.0dev0 (from numba)\n",
      "  Downloading llvmlite-0.44.0-cp311-cp311-win_amd64.whl.metadata (5.0 kB)\n",
      "Requirement already satisfied: numpy<2.2,>=1.24 in c:\\users\\iitia\\anaconda3\\lib\\site-packages (from numba) (1.26.4)\n",
      "Downloading numba-0.61.0-cp311-cp311-win_amd64.whl (2.8 MB)\n",
      "   ---------------------------------------- 0.0/2.8 MB ? eta -:--:--\n",
      "   --- ------------------------------------ 0.3/2.8 MB ? eta -:--:--\n",
      "   ----------- ---------------------------- 0.8/2.8 MB 3.3 MB/s eta 0:00:01\n",
      "   ---------------------- ----------------- 1.6/2.8 MB 3.2 MB/s eta 0:00:01\n",
      "   ----------------------------- ---------- 2.1/2.8 MB 3.3 MB/s eta 0:00:01\n",
      "   ---------------------------------------- 2.8/2.8 MB 3.2 MB/s eta 0:00:00\n",
      "Downloading llvmlite-0.44.0-cp311-cp311-win_amd64.whl (30.3 MB)\n",
      "   ---------------------------------------- 0.0/30.3 MB ? eta -:--:--\n",
      "    --------------------------------------- 0.5/30.3 MB 2.8 MB/s eta 0:00:11\n",
      "   - -------------------------------------- 1.0/30.3 MB 2.6 MB/s eta 0:00:12\n",
      "   -- ------------------------------------- 1.8/30.3 MB 3.0 MB/s eta 0:00:10\n",
      "   --- ------------------------------------ 2.6/30.3 MB 3.1 MB/s eta 0:00:09\n",
      "   ---- ----------------------------------- 3.1/30.3 MB 3.1 MB/s eta 0:00:09\n",
      "   ----- ---------------------------------- 3.9/30.3 MB 3.1 MB/s eta 0:00:09\n",
      "   ----- ---------------------------------- 4.5/30.3 MB 3.1 MB/s eta 0:00:09\n",
      "   ------ --------------------------------- 5.0/30.3 MB 3.1 MB/s eta 0:00:09\n",
      "   ------- -------------------------------- 5.8/30.3 MB 3.1 MB/s eta 0:00:08\n",
      "   -------- ------------------------------- 6.3/30.3 MB 3.1 MB/s eta 0:00:08\n",
      "   --------- ------------------------------ 7.1/30.3 MB 3.1 MB/s eta 0:00:08\n",
      "   ---------- ----------------------------- 7.6/30.3 MB 3.1 MB/s eta 0:00:08\n",
      "   ----------- ---------------------------- 8.4/30.3 MB 3.1 MB/s eta 0:00:08\n",
      "   ----------- ---------------------------- 8.9/30.3 MB 3.1 MB/s eta 0:00:07\n",
      "   ------------ --------------------------- 9.7/30.3 MB 3.1 MB/s eta 0:00:07\n",
      "   ------------- -------------------------- 10.2/30.3 MB 3.1 MB/s eta 0:00:07\n",
      "   -------------- ------------------------- 10.7/30.3 MB 3.1 MB/s eta 0:00:07\n",
      "   --------------- ------------------------ 11.5/30.3 MB 3.1 MB/s eta 0:00:07\n",
      "   --------------- ------------------------ 12.1/30.3 MB 3.1 MB/s eta 0:00:06\n",
      "   ---------------- ----------------------- 12.8/30.3 MB 3.1 MB/s eta 0:00:06\n",
      "   ----------------- ---------------------- 13.4/30.3 MB 3.1 MB/s eta 0:00:06\n",
      "   ------------------ --------------------- 14.2/30.3 MB 3.1 MB/s eta 0:00:06\n",
      "   ------------------- -------------------- 14.7/30.3 MB 3.1 MB/s eta 0:00:06\n",
      "   -------------------- ------------------- 15.5/30.3 MB 3.1 MB/s eta 0:00:05\n",
      "   --------------------- ------------------ 16.0/30.3 MB 3.1 MB/s eta 0:00:05\n",
      "   ---------------------- ----------------- 16.8/30.3 MB 3.1 MB/s eta 0:00:05\n",
      "   ---------------------- ----------------- 17.3/30.3 MB 3.1 MB/s eta 0:00:05\n",
      "   ----------------------- ---------------- 17.8/30.3 MB 3.1 MB/s eta 0:00:05\n",
      "   ------------------------ --------------- 18.6/30.3 MB 3.1 MB/s eta 0:00:04\n",
      "   ------------------------- -------------- 19.1/30.3 MB 3.1 MB/s eta 0:00:04\n",
      "   ------------------------- -------------- 19.7/30.3 MB 3.1 MB/s eta 0:00:04\n",
      "   -------------------------- ------------- 20.4/30.3 MB 3.1 MB/s eta 0:00:04\n",
      "   --------------------------- ------------ 21.0/30.3 MB 3.1 MB/s eta 0:00:04\n",
      "   ---------------------------- ----------- 21.5/30.3 MB 3.1 MB/s eta 0:00:03\n",
      "   ----------------------------- ---------- 22.3/30.3 MB 3.1 MB/s eta 0:00:03\n",
      "   ------------------------------ --------- 22.8/30.3 MB 3.1 MB/s eta 0:00:03\n",
      "   ------------------------------- -------- 23.6/30.3 MB 3.1 MB/s eta 0:00:03\n",
      "   -------------------------------- ------- 24.4/30.3 MB 3.1 MB/s eta 0:00:02\n",
      "   -------------------------------- ------- 24.9/30.3 MB 3.1 MB/s eta 0:00:02\n",
      "   --------------------------------- ------ 25.7/30.3 MB 3.1 MB/s eta 0:00:02\n",
      "   ---------------------------------- ----- 26.2/30.3 MB 3.1 MB/s eta 0:00:02\n",
      "   ----------------------------------- ---- 27.0/30.3 MB 3.1 MB/s eta 0:00:02\n",
      "   ------------------------------------ --- 27.5/30.3 MB 3.1 MB/s eta 0:00:01\n",
      "   ------------------------------------ --- 28.0/30.3 MB 3.1 MB/s eta 0:00:01\n",
      "   -------------------------------------- - 28.8/30.3 MB 3.1 MB/s eta 0:00:01\n",
      "   -------------------------------------- - 29.4/30.3 MB 3.1 MB/s eta 0:00:01\n",
      "   ---------------------------------------  30.1/30.3 MB 3.1 MB/s eta 0:00:01\n",
      "   ---------------------------------------- 30.3/30.3 MB 3.1 MB/s eta 0:00:00\n",
      "Installing collected packages: llvmlite, numba\n",
      "  Attempting uninstall: llvmlite\n",
      "    Found existing installation: llvmlite 0.40.0\n",
      "    Uninstalling llvmlite-0.40.0:\n",
      "      Successfully uninstalled llvmlite-0.40.0\n",
      "  Attempting uninstall: numba\n",
      "    Found existing installation: numba 0.57.1\n",
      "    Uninstalling numba-0.57.1:\n",
      "      Successfully uninstalled numba-0.57.1\n",
      "Successfully installed llvmlite-0.44.0 numba-0.61.0\n",
      "Note: you may need to restart the kernel to use updated packages.\n"
     ]
    }
   ],
   "source": [
    "pip install --upgrade numba\n"
   ]
  },
  {
   "cell_type": "code",
   "execution_count": 15,
   "id": "33f99eb0",
   "metadata": {},
   "outputs": [
    {
     "name": "stdout",
     "output_type": "stream",
     "text": [
      "1.26.4\n",
      "File found, proceeding to load with librosa.\n",
      "Loaded audio with sampling rate: 44100 Hz and 1455599 samples.\n"
     ]
    },
    {
     "data": {
      "image/png": "[encoded data removed]",
      "text/plain": [
       "<Figure size 1000x400 with 1 Axes>"
      ]
     },
     "metadata": {},
     "output_type": "display_data"
    }
   ],
   "source": [
    "import librosa\n",
    "import librosa.display\n",
    "import matplotlib.pyplot as plt\n",
    "import numpy as np\n",
    "\n",
    "print(np.__version__)\n",
    "\n",
    "# Path to your sample audio file\n",
    "sample_file = r\"radio_recordings\\Classic_FM_20250308_184804.mp3\"\n",
    "\n",
    "# Check if file exists\n",
    "import os\n",
    "if not os.path.exists(sample_file):\n",
    "    print(f\"File {sample_file} not found!\")\n",
    "else:\n",
    "    print(\"File found, proceeding to load with librosa.\")\n",
    "\n",
    "  \n",
    "    y, sr = librosa.load(sample_file, sr=None)\n",
    "    \n",
    "    print(f\"Loaded audio with sampling rate: {sr} Hz and {len(y)} samples.\")\n",
    "    \n",
    "    # Plot the waveform using librosa's display module\n",
    "    plt.figure(figsize=(10, 4))\n",
    "    librosa.display.waveshow(y, sr=sr)\n",
    "    plt.title(\"Waveform of Sample Recording\")\n",
    "    plt.xlabel(\"Time (s)\")\n",
    "    plt.ylabel(\"Amplitude\")\n",
    "    plt.show()\n"
   ]
  },
  {
   "cell_type": "markdown",
   "id": "73e30bb6",
   "metadata": {},
   "source": [
    "## Conclusion\n",
    "\n",
    "In this notebook, we:\n",
    "- Collected audio streams from online radio stations using automated recording with `ffmpeg`.\n",
    "- Saved 30 recordings in MP3 format along with relevant metadata (station name, timestamp, and duration).\n",
    "- Named the dataset **RadioStream Chronicles**, which could be used in further tasks such as genre classification, speech recognition, or ambient sound analysis.\n",
    "- Demonstrated a simple use case by visualizing the recording duration distribution and examining the waveform of a sample recording.\n",
    "\n",
    "This framework can be extended further for large-scale multimodal data collection and analysis projects.\n"
   ]
  },
  {
   "cell_type": "code",
   "execution_count": null,
   "id": "f38eecbc",
   "metadata": {},
   "outputs": [],
   "source": []
  }
 ],
 "metadata": {
  "kernelspec": {
   "display_name": "Python 3 (ipykernel)",
   "language": "python",
   "name": "python3"
  },
  "language_info": {
   "codemirror_mode": {
    "name": "ipython",
    "version": 3
   },
   "file_extension": ".py",
   "mimetype": "text/x-python",
   "name": "python",
   "nbconvert_exporter": "python",
   "pygments_lexer": "ipython3",
   "version": "3.11.5"
  }
 },
 "nbformat": 4,
 "nbformat_minor": 5
}
