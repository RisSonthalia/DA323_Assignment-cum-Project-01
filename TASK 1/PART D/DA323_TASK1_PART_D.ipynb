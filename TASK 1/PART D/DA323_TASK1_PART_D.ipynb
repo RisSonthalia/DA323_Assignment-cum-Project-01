{
 "cells": [
  {
   "cell_type": "markdown",
   "id": "0df8ef96",
   "metadata": {},
   "source": [
    "\n",
    "# Weather Dataset Collection: IndiaWeatherInsights\n",
    "### **Project Overview:**  \n",
    "- This notebook demonstrates a scalable data collection process using the OpenWeatherMap API.\n",
    "- The goal is to collect both historical and real-time weather data for 20 Indian cities.\n",
    "- We will capture key parameters such as temperature, humidity, and wind speed.\n",
    "- The collected data is stored in a CSV file named **IndiaWeatherInsights.csv**.  \n",
    "\n",
    "### **Use Case Demonstration:**  \n",
    "- One potential use case for this dataset is to analyze weather trends across major Indian cities. \n",
    "- For instance, one could explore correlations between temperature and humidity over time or identify urban heat island effects by comparing cities. This analysis could be useful for urban planning or climate research.\n",
    "\n",
    "### **Suggested Python Tools:**  \n",
    " - `requests` for API calls  \n",
    " - `pandas` for data manipulation and CSV handling  \n",
    " - `matplotlib` for visualization\n",
    "\n",
    "### **Note on Data Collection Frequency:**  \n",
    "- In a real-world scenario, you might schedule this script to run periodically (e.g., hourly or daily) over a month using a scheduler (like `cron` or Windows Task Scheduler). For demonstration, this notebook simulates periodic data collection using a loop with a short delay.\n"
   ]
  },
  {
   "cell_type": "markdown",
   "id": "8214ba0b",
   "metadata": {},
   "source": [
    "\n",
    "## 1. Setup and Imports\n",
    "- We import the necessary libraries and set up our global variables.\n"
   ]
  },
  {
   "cell_type": "code",
   "execution_count": 1,
   "id": "c09b6f25",
   "metadata": {},
   "outputs": [
    {
     "name": "stderr",
     "output_type": "stream",
     "text": [
      "C:\\Users\\iitia\\anaconda3\\Lib\\site-packages\\pandas\\core\\arrays\\masked.py:60: UserWarning: Pandas requires version '1.3.6' or newer of 'bottleneck' (version '1.3.5' currently installed).\n",
      "  from pandas.core import (\n"
     ]
    }
   ],
   "source": [
    "import requests\n",
    "import pandas as pd\n",
    "import matplotlib.pyplot as plt\n",
    "from datetime import datetime\n",
    "import time  # Used to simulate periodic collection (adjust or remove in production)\n",
    "\n",
    "# Set matplotlib inline for Jupyter Notebook\n",
    "%matplotlib inline\n",
    "\n",
    "# Replace with your actual OpenWeatherMap API key\n",
    "API_KEY = \"aac405e628f9c30a047d3de13192a7f7\"\n",
    "\n",
    "# Base URL for current weather data from OpenWeatherMap\n",
    "BASE_URL = \"https://api.openweathermap.org/data/2.5/weather\"\n",
    "\n",
    "# List of 20 Indian cities\n",
    "cities = [\n",
    "    \"Delhi\", \"Mumbai\", \"Kolkata\", \"Chennai\", \"Bengaluru\",\n",
    "    \"Hyderabad\", \"Pune\", \"Ahmedabad\", \"Jaipur\", \"Lucknow\",\n",
    "    \"Kanpur\", \"Nagpur\", \"Indore\", \"Surat\", \"Patna\",\n",
    "    \"Vadodara\", \"Bhopal\", \"Coimbatore\", \"Visakhapatnam\", \"Guwahati\"\n",
    "]\n"
   ]
  },
  {
   "cell_type": "markdown",
   "id": "1a6ff47c",
   "metadata": {},
   "source": [
    "## 2. Function to Fetch Weather Data\n",
    "- This function makes an API call to OpenWeatherMap for a given city and returns the temperature, humidity, wind speed, and timestamp.\n"
   ]
  },
  {
   "cell_type": "code",
   "execution_count": 2,
   "id": "a6d24cb4",
   "metadata": {},
   "outputs": [],
   "source": [
    "def get_weather_data(city):\n",
    "    \"\"\"\n",
    "    Fetch weather data for a specified city using OpenWeatherMap API.\n",
    "    \n",
    "    Parameters:\n",
    "        city (str): Name of the city to fetch weather data for.\n",
    "    \n",
    "    Returns:\n",
    "        dict: A dictionary containing city, temperature, humidity, wind speed, and timestamp.\n",
    "              Returns None if the API call fails.\n",
    "    \"\"\"\n",
    "    params = {\n",
    "        \"q\": city,\n",
    "        \"appid\": API_KEY,\n",
    "        \"units\": \"metric\"  # Temperature in Celsius\n",
    "    }\n",
    "    \n",
    "    try:\n",
    "        response = requests.get(BASE_URL, params=params)\n",
    "        data = response.json()\n",
    "        \n",
    "        # Check if the response contains an error message\n",
    "        if response.status_code != 200:\n",
    "            print(f\"Error fetching data for {city}: {data.get('message', 'Unknown error')}\")\n",
    "            return None\n",
    "        \n",
    "        # Extract required parameters\n",
    "        weather_info = {\n",
    "            \"city\": city,\n",
    "            \"temperature\": data[\"main\"][\"temp\"],\n",
    "            \"humidity\": data[\"main\"][\"humidity\"],\n",
    "            \"wind_speed\": data[\"wind\"][\"speed\"],\n",
    "            \"timestamp\": datetime.now()  # Current date and time\n",
    "        }\n",
    "        return weather_info\n",
    "    except Exception as e:\n",
    "        print(f\"Exception occurred for {city}: {e}\")\n",
    "        return None\n"
   ]
  },
  {
   "cell_type": "markdown",
   "id": "2901206b",
   "metadata": {},
   "source": [
    "## 3. Data Collection Loop\n",
    "- For demonstration purposes, we simulate periodic data collection by iterating multiple times with a delay.  \n",
    "- **Note:** In a production environment, we would schedule this loop to run periodically (e.g., once per hour or once per day) over a month.\n"
   ]
  },
  {
   "cell_type": "code",
   "execution_count": 3,
   "id": "021bac17",
   "metadata": {},
   "outputs": [
    {
     "name": "stdout",
     "output_type": "stream",
     "text": [
      "Starting data collection simulation...\n",
      "\n",
      "Iteration 1/5 at 2025-03-09 14:08:39\n",
      "Waiting for next data collection cycle...\n",
      "\n",
      "\n",
      "Iteration 2/5 at 2025-03-09 14:09:25\n",
      "Waiting for next data collection cycle...\n",
      "\n",
      "\n",
      "Iteration 3/5 at 2025-03-09 14:10:11\n",
      "Waiting for next data collection cycle...\n",
      "\n",
      "\n",
      "Iteration 4/5 at 2025-03-09 14:10:58\n",
      "Waiting for next data collection cycle...\n",
      "\n",
      "\n",
      "Iteration 5/5 at 2025-03-09 14:11:44\n",
      "Waiting for next data collection cycle...\n",
      "\n",
      "Data collection simulation complete.\n"
     ]
    }
   ],
   "source": [
    "# Number of simulation iterations (adjust as needed)\n",
    "iterations = 5  # For demonstration; in practice, this could be 720 (for 30 days x 24 hours) or similar.\n",
    "\n",
    "# List to store collected weather data\n",
    "weather_data = []\n",
    "\n",
    "print(\"Starting data collection simulation...\")\n",
    "\n",
    "for i in range(iterations):\n",
    "    print(f\"\\nIteration {i+1}/{iterations} at {datetime.now().strftime('%Y-%m-%d %H:%M:%S')}\")\n",
    "    for city in cities:\n",
    "        data = get_weather_data(city)\n",
    "        if data:\n",
    "            weather_data.append(data)\n",
    "        # Sleep for 1 second between city calls to avoid hitting the API too rapidly\n",
    "        time.sleep(1)\n",
    "    \n",
    "    # Wait for a short period before the next iteration (for demo, 5 seconds; adjust in production)\n",
    "    print(\"Waiting for next data collection cycle...\\n\")\n",
    "    time.sleep(5)\n",
    "\n",
    "print(\"Data collection simulation complete.\")\n"
   ]
  },
  {
   "cell_type": "markdown",
   "id": "7e9d4456",
   "metadata": {},
   "source": [
    "## 4. Data Storage: Saving to CSV\n",
    "- We convert the collected data into a pandas DataFrame and save it as a CSV file named **IndiaWeatherInsights.csv**.\n"
   ]
  },
  {
   "cell_type": "code",
   "execution_count": 4,
   "id": "9cd0ff1e",
   "metadata": {},
   "outputs": [
    {
     "name": "stdout",
     "output_type": "stream",
     "text": [
      "Sample of the collected data:\n"
     ]
    },
    {
     "data": {
      "text/html": [
       "<div>\n",
       "<style scoped>\n",
       "    .dataframe tbody tr th:only-of-type {\n",
       "        vertical-align: middle;\n",
       "    }\n",
       "\n",
       "    .dataframe tbody tr th {\n",
       "        vertical-align: top;\n",
       "    }\n",
       "\n",
       "    .dataframe thead th {\n",
       "        text-align: right;\n",
       "    }\n",
       "</style>\n",
       "<table border=\"1\" class=\"dataframe\">\n",
       "  <thead>\n",
       "    <tr style=\"text-align: right;\">\n",
       "      <th></th>\n",
       "      <th>city</th>\n",
       "      <th>temperature</th>\n",
       "      <th>humidity</th>\n",
       "      <th>wind_speed</th>\n",
       "      <th>timestamp</th>\n",
       "    </tr>\n",
       "  </thead>\n",
       "  <tbody>\n",
       "    <tr>\n",
       "      <th>0</th>\n",
       "      <td>Delhi</td>\n",
       "      <td>32.39</td>\n",
       "      <td>10</td>\n",
       "      <td>1.24</td>\n",
       "      <td>2025-03-09 14:08:40.694664</td>\n",
       "    </tr>\n",
       "    <tr>\n",
       "      <th>1</th>\n",
       "      <td>Mumbai</td>\n",
       "      <td>29.08</td>\n",
       "      <td>53</td>\n",
       "      <td>6.71</td>\n",
       "      <td>2025-03-09 14:08:42.712820</td>\n",
       "    </tr>\n",
       "    <tr>\n",
       "      <th>2</th>\n",
       "      <td>Kolkata</td>\n",
       "      <td>33.74</td>\n",
       "      <td>24</td>\n",
       "      <td>2.30</td>\n",
       "      <td>2025-03-09 14:08:44.748007</td>\n",
       "    </tr>\n",
       "    <tr>\n",
       "      <th>3</th>\n",
       "      <td>Chennai</td>\n",
       "      <td>29.11</td>\n",
       "      <td>52</td>\n",
       "      <td>4.93</td>\n",
       "      <td>2025-03-09 14:08:46.839187</td>\n",
       "    </tr>\n",
       "    <tr>\n",
       "      <th>4</th>\n",
       "      <td>Bengaluru</td>\n",
       "      <td>33.42</td>\n",
       "      <td>13</td>\n",
       "      <td>5.23</td>\n",
       "      <td>2025-03-09 14:08:48.889148</td>\n",
       "    </tr>\n",
       "  </tbody>\n",
       "</table>\n",
       "</div>"
      ],
      "text/plain": [
       "        city  temperature  humidity  wind_speed                  timestamp\n",
       "0      Delhi        32.39        10        1.24 2025-03-09 14:08:40.694664\n",
       "1     Mumbai        29.08        53        6.71 2025-03-09 14:08:42.712820\n",
       "2    Kolkata        33.74        24        2.30 2025-03-09 14:08:44.748007\n",
       "3    Chennai        29.11        52        4.93 2025-03-09 14:08:46.839187\n",
       "4  Bengaluru        33.42        13        5.23 2025-03-09 14:08:48.889148"
      ]
     },
     "metadata": {},
     "output_type": "display_data"
    },
    {
     "name": "stdout",
     "output_type": "stream",
     "text": [
      "Data successfully saved to IndiaWeatherInsights.csv\n"
     ]
    }
   ],
   "source": [
    "# Convert list of dictionaries to DataFrame\n",
    "df_weather = pd.DataFrame(weather_data)\n",
    "\n",
    "# Display the first few rows of the DataFrame\n",
    "print(\"Sample of the collected data:\")\n",
    "display(df_weather.head())\n",
    "\n",
    "# Save the DataFrame to a CSV file\n",
    "csv_filename = \"IndiaWeatherInsights.csv\"\n",
    "df_weather.to_csv(csv_filename, index=False)\n",
    "print(f\"Data successfully saved to {csv_filename}\")\n"
   ]
  },
  {
   "cell_type": "markdown",
   "id": "f174845b",
   "metadata": {},
   "source": [
    "## 5. Use Case Demonstration: Weather Trend Analysis\n",
    "- As a demonstration of the dataset's potential use, we perform a simple analysis by plotting temperature trends for a selected city over time.\n"
   ]
  },
  {
   "cell_type": "code",
   "execution_count": 6,
   "id": "19a010f0",
   "metadata": {
    "scrolled": true
   },
   "outputs": [
    {
     "data": {
      "image/png": "[encoded data removed]",
      "text/plain": [
       "<Figure size 1000x500 with 1 Axes>"
      ]
     },
     "metadata": {},
     "output_type": "display_data"
    }
   ],
   "source": [
    "# Select a city for demonstration (e.g., \"Delhi\")\n",
    "selected_city = \"Guwahati\"\n",
    "city_data = df_weather[df_weather[\"city\"] == selected_city].copy()\n",
    "\n",
    "# Ensure the timestamp column is in datetime format (if not already)\n",
    "city_data[\"timestamp\"] = pd.to_datetime(city_data[\"timestamp\"])\n",
    "\n",
    "# Sort data by timestamp\n",
    "city_data.sort_values(\"timestamp\", inplace=True)\n",
    "\n",
    "# Plot temperature trend over time for the selected city\n",
    "plt.figure(figsize=(10, 5))\n",
    "plt.plot(city_data[\"timestamp\"], city_data[\"temperature\"], marker='o', linestyle='-')\n",
    "plt.title(f\"Temperature Trend Over Time in {selected_city}\")\n",
    "plt.xlabel(\"Timestamp\")\n",
    "plt.ylabel(\"Temperature (°C)\")\n",
    "plt.xticks(rotation=45)\n",
    "plt.grid(True)\n",
    "plt.tight_layout()\n",
    "plt.show()\n"
   ]
  },
  {
   "cell_type": "markdown",
   "id": "5cb9ea07",
   "metadata": {},
   "source": [
    "## 6. Conclusion\n",
    "- In this notebook, we implemented a scalable method to collect weather data from the OpenWeatherMap API for 20 Indian cities. The dataset, named **IndiaWeatherInsights**, stores key parameters such as temperature, humidity, and wind speed along with timestamps. We also demonstrated a simple use case by visualizing the temperature trend for Delhi over time.\n",
    "\n",
    "- **This dataset can be further explored for various analyses such as:**\n",
    "    - Correlation studies between temperature and humidity.\n",
    "    - Comparative analysis of weather patterns across cities.\n",
    "    - Forecasting and trend analysis for climate research.\n",
    "\n",
    "#### Future work could include integrating historical weather data and more advanced statistical or machine learning analyses.\n"
   ]
  },
  {
   "cell_type": "code",
   "execution_count": null,
   "id": "640d08ac",
   "metadata": {},
   "outputs": [],
   "source": []
  }
 ],
 "metadata": {
  "kernelspec": {
   "display_name": "Python 3 (ipykernel)",
   "language": "python",
   "name": "python3"
  },
  "language_info": {
   "codemirror_mode": {
    "name": "ipython",
    "version": 3
   },
   "file_extension": ".py",
   "mimetype": "text/x-python",
   "name": "python",
   "nbconvert_exporter": "python",
   "pygments_lexer": "ipython3",
   "version": "3.11.5"
  }
 },
 "nbformat": 4,
 "nbformat_minor": 5
}
