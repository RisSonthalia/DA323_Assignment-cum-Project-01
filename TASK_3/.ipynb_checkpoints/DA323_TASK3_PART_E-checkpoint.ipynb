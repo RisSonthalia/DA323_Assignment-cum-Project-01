{
 "cells": [
  {
   "cell_type": "markdown",
   "id": "9f91932f",
   "metadata": {},
   "source": [
    "# Multimodal Correlation Analysis: Flags, Anthem Text, and Anthem Audio\n",
    "\n",
    "In this notebook, we investigate whether there exist correlations between three different data modalities:\n",
    "\n",
    "- **Visual (Flags):** We extract visual features (e.g., aspect ratio) from national flag images.\n",
    "- **Textual (Anthem Translations):** We analyze the English translations of national anthems, computing sentiment scores as a proxy for tone.\n",
    "- **Audio (Anthem Music):** We extract audio features (e.g., tempo) from the anthem audio files.\n",
    "\n",
    "## Methodology Overview:\n",
    "\n",
    "### 1. Data Loading and Preprocessing\n",
    "- **Flags:** Load flag images from `flags_png/` and compute each flag's aspect ratio.\n",
    "- **Anthem Translations:** Load the English translations from `anthem_translations.json`, preprocess the text, and compute sentiment scores using VADER.\n",
    "- **Anthem Audio:** Load audio files from `anthem_mp3/` and estimate the tempo (beats per minute).\n",
    "\n",
    "### 2. Feature Integration\n",
    "- Combine the features from the three modalities for each country into a unified DataFrame.\n",
    "\n",
    "### 3. Correlation Analysis\n",
    "- Compute correlation statistics and visualize the relationships between:\n",
    "   - Flag aspect ratio vs. Anthem sentiment score.\n",
    "   - Anthem sentiment score vs. Anthem tempo.\n",
    "   - Flag aspect ratio vs. Anthem tempo.\n",
    "\n",
    "### 4. Visualization\n",
    "- Create scatter plots and a correlation matrix to support our exploratory analysis.\n",
    "### 5. Multimodal Generative Model\n",
    "- Try to implement a VAE to generate anthem text based on input flag image\n",
    "\n",
    "**Note:** This analysis is exploratory in nature. The correlations may reveal interesting patterns or insights into national identity, historical influences, and cultural expression.\n",
    "\n",
    "---"
   ]
  },
  {
   "cell_type": "markdown",
   "id": "38a20d6b",
   "metadata": {},
   "source": [
    "## 1. Data Loading and Preprocessing\n",
    "\n",
    "We first load data from each modality.\n",
    "\n",
    "### A. Flag Images: Aspect Ratio\n",
    "\n",
    "We load the flag images from the folder `flags_png/` (assumed to be stored with filenames like \"US.png\", \"IN.png\", etc.).\n",
    "For each flag, we compute its aspect ratio (width/height). If the flag is not in landscape orientation, we swap dimensions."
   ]
  },
  {
   "cell_type": "code",
   "execution_count": 1,
   "id": "c44b6dd1",
   "metadata": {},
   "outputs": [
    {
     "name": "stderr",
     "output_type": "stream",
     "text": [
      "C:\\Users\\iitia\\anaconda3\\Lib\\site-packages\\pandas\\core\\arrays\\masked.py:60: UserWarning: Pandas requires version '1.3.6' or newer of 'bottleneck' (version '1.3.5' currently installed).\n",
      "  from pandas.core import (\n"
     ]
    },
    {
     "name": "stdout",
     "output_type": "stream",
     "text": [
      "Extracted flag aspect ratios for 256 countries.\n"
     ]
    }
   ],
   "source": [
    "\n",
    "import os\n",
    "from PIL import Image\n",
    "import pandas as pd\n",
    "\n",
    "# Directory containing flag images\n",
    "flags_dir = \"flags_png\"\n",
    "\n",
    "# List all PNG files in the directory\n",
    "flag_files = [f for f in os.listdir(flags_dir) if f.endswith('.png')]\n",
    "\n",
    "# Create a dictionary to store aspect ratios (key: country code, value: aspect ratio)\n",
    "flag_features = {}\n",
    "\n",
    "for file in flag_files:\n",
    "    file_path = os.path.join(flags_dir, file)\n",
    "    try:\n",
    "        with Image.open(file_path) as img:\n",
    "            width, height = img.size\n",
    "            # Ensure landscape orientation: use larger value as width\n",
    "            if width < height:\n",
    "                width, height = height, width\n",
    "            aspect_ratio = width / height\n",
    "            country = file.split('.')[0].upper()\n",
    "            flag_features[country] = aspect_ratio\n",
    "    except Exception as e:\n",
    "        print(f\"Error processing {file}: {e}\")\n",
    "\n",
    "print(\"Extracted flag aspect ratios for\", len(flag_features), \"countries.\")\n"
   ]
  },
  {
   "cell_type": "markdown",
   "id": "25955efa",
   "metadata": {},
   "source": [
    "### B. Anthem Translations: Sentiment Analysis\n",
    "\n",
    "- We load the anthem translations from `anthem_translations.json` and use NLTK's VADER to compute a sentiment score.\n",
    "- We use the compound score as an overall sentiment indicator."
   ]
  },
  {
   "cell_type": "code",
   "execution_count": 2,
   "id": "0558abc2",
   "metadata": {},
   "outputs": [
    {
     "name": "stderr",
     "output_type": "stream",
     "text": [
      "[nltk_data] Downloading package vader_lexicon to\n",
      "[nltk_data]     C:\\Users\\iitia\\AppData\\Roaming\\nltk_data...\n",
      "[nltk_data]   Package vader_lexicon is already up-to-date!\n"
     ]
    },
    {
     "name": "stdout",
     "output_type": "stream",
     "text": [
      "Computed sentiment scores for 228 countries.\n"
     ]
    }
   ],
   "source": [
    "\n",
    "import json\n",
    "import re\n",
    "import nltk\n",
    "from nltk.sentiment.vader import SentimentIntensityAnalyzer\n",
    "\n",
    "# Ensure necessary NLTK data is downloaded\n",
    "nltk.download('vader_lexicon')\n",
    "\n",
    "# Load anthem translations JSON file\n",
    "with open(\"anthem_translations.json\", \"r\", encoding=\"utf-8\") as f:\n",
    "    anthem_translations = json.load(f)\n",
    "\n",
    "# Initialize VADER sentiment analyzer\n",
    "sia = SentimentIntensityAnalyzer()\n",
    "\n",
    "# Dictionary to store sentiment scores (key: country code, value: compound sentiment)\n",
    "anthem_sentiments = {}\n",
    "\n",
    "for country, text in anthem_translations.items():\n",
    "    # Preprocess text: convert to lowercase and remove punctuation\n",
    "    text_clean = text.lower()\n",
    "    text_clean = re.sub(r'[^a-z\\s]', '', text_clean)\n",
    "    sentiment = sia.polarity_scores(text_clean)\n",
    "    anthem_sentiments[country.upper()] = sentiment['compound']\n",
    "\n",
    "print(\"Computed sentiment scores for\", len(anthem_sentiments), \"countries.\")\n"
   ]
  },
  {
   "cell_type": "markdown",
   "id": "e7545b90",
   "metadata": {},
   "source": [
    "\n",
    "## **C. Anthem Audio: Tempo Estimation**\n",
    "\n",
    "- We load the anthem audio files from `anthem_mp3/` and estimate their tempo (in BPM) using librosa.\n"
   ]
  },
  {
   "cell_type": "code",
   "execution_count": 3,
   "id": "72ce428e",
   "metadata": {},
   "outputs": [
    {
     "name": "stderr",
     "output_type": "stream",
     "text": [
      "C:\\Users\\iitia\\AppData\\Local\\Temp\\ipykernel_15140\\821819790.py:17: DeprecationWarning: Conversion of an array with ndim > 0 to a scalar is deprecated, and will error in future. Ensure you extract a single element from your array before performing this operation. (Deprecated NumPy 1.25.)\n",
      "  anthem_tempos[country] = float(tempo)\n"
     ]
    },
    {
     "name": "stdout",
     "output_type": "stream",
     "text": [
      "Estimated tempos for 49 anthem audio files.\n"
     ]
    }
   ],
   "source": [
    "\n",
    "import librosa\n",
    "\n",
    "audio_dir = \"anthem_mp3\"\n",
    "audio_files = [f for f in os.listdir(audio_dir) if f.endswith('.mp3')]\n",
    "\n",
    "# Dictionary to store tempo (key: country code, value: tempo in BPM)\n",
    "anthem_tempos = {}\n",
    "\n",
    "for file in audio_files:\n",
    "    file_path = os.path.join(audio_dir, file)\n",
    "    try:\n",
    "        # Load audio (preserving the original sampling rate)\n",
    "        y, sr = librosa.load(file_path, sr=None)\n",
    "        tempo, _ = librosa.beat.beat_track(y=y, sr=sr)\n",
    "        country = file.split('.')[0].upper()\n",
    "        anthem_tempos[country] = float(tempo)\n",
    "    except Exception as e:\n",
    "        print(f\"Error processing {file}: {e}\")\n",
    "\n",
    "print(\"Estimated tempos for\", len(anthem_tempos), \"anthem audio files.\")\n"
   ]
  },
  {
   "cell_type": "markdown",
   "id": "2cda92d4",
   "metadata": {},
   "source": [
    "\n",
    "## 2. Feature Integration\n",
    "\n",
    "- Next, we combine the extracted features from the three modalities into a single DataFrame.\n",
    "- **Note:** We consider only the countries that have data available in all three modalities. We take the intersection of keys from our dictionaries.\n"
   ]
  },
  {
   "cell_type": "code",
   "execution_count": 4,
   "id": "bad3764c",
   "metadata": {},
   "outputs": [
    {
     "name": "stdout",
     "output_type": "stream",
     "text": [
      "Number of countries with data in all modalities: 48\n",
      "Integrated Feature Data:\n"
     ]
    },
    {
     "data": {
      "text/html": [
       "<div>\n",
       "<style scoped>\n",
       "    .dataframe tbody tr th:only-of-type {\n",
       "        vertical-align: middle;\n",
       "    }\n",
       "\n",
       "    .dataframe tbody tr th {\n",
       "        vertical-align: top;\n",
       "    }\n",
       "\n",
       "    .dataframe thead th {\n",
       "        text-align: right;\n",
       "    }\n",
       "</style>\n",
       "<table border=\"1\" class=\"dataframe\">\n",
       "  <thead>\n",
       "    <tr style=\"text-align: right;\">\n",
       "      <th></th>\n",
       "      <th>Country</th>\n",
       "      <th>Aspect_Ratio</th>\n",
       "      <th>Sentiment</th>\n",
       "      <th>Tempo</th>\n",
       "    </tr>\n",
       "  </thead>\n",
       "  <tbody>\n",
       "    <tr>\n",
       "      <th>0</th>\n",
       "      <td>PE</td>\n",
       "      <td>1.497006</td>\n",
       "      <td>-0.8689</td>\n",
       "      <td>92.285156</td>\n",
       "    </tr>\n",
       "    <tr>\n",
       "      <th>1</th>\n",
       "      <td>SE</td>\n",
       "      <td>1.602564</td>\n",
       "      <td>0.9756</td>\n",
       "      <td>63.802083</td>\n",
       "    </tr>\n",
       "    <tr>\n",
       "      <th>2</th>\n",
       "      <td>TR</td>\n",
       "      <td>1.497006</td>\n",
       "      <td>0.9975</td>\n",
       "      <td>83.354335</td>\n",
       "    </tr>\n",
       "    <tr>\n",
       "      <th>3</th>\n",
       "      <td>BR</td>\n",
       "      <td>1.428571</td>\n",
       "      <td>0.9948</td>\n",
       "      <td>123.046875</td>\n",
       "    </tr>\n",
       "    <tr>\n",
       "      <th>4</th>\n",
       "      <td>CH</td>\n",
       "      <td>1.000000</td>\n",
       "      <td>0.9892</td>\n",
       "      <td>103.359375</td>\n",
       "    </tr>\n",
       "  </tbody>\n",
       "</table>\n",
       "</div>"
      ],
      "text/plain": [
       "  Country  Aspect_Ratio  Sentiment       Tempo\n",
       "0      PE      1.497006    -0.8689   92.285156\n",
       "1      SE      1.602564     0.9756   63.802083\n",
       "2      TR      1.497006     0.9975   83.354335\n",
       "3      BR      1.428571     0.9948  123.046875\n",
       "4      CH      1.000000     0.9892  103.359375"
      ]
     },
     "metadata": {},
     "output_type": "display_data"
    }
   ],
   "source": [
    "\n",
    "# Get sets of countries for each modality\n",
    "countries_flags = set(flag_features.keys())\n",
    "countries_text = set(anthem_sentiments.keys())\n",
    "countries_audio = set(anthem_tempos.keys())\n",
    "\n",
    "# Compute the intersection: only keep countries present in all modalities\n",
    "common_countries = countries_flags & countries_text & countries_audio\n",
    "print(\"Number of countries with data in all modalities:\", len(common_countries))\n",
    "\n",
    "# Create a DataFrame for integrated features\n",
    "data = []\n",
    "for country in common_countries:\n",
    "    data.append({\n",
    "        \"Country\": country,\n",
    "        \"Aspect_Ratio\": flag_features[country],\n",
    "        \"Sentiment\": anthem_sentiments[country],\n",
    "        \"Tempo\": anthem_tempos[country]\n",
    "    })\n",
    "\n",
    "df_multimodal = pd.DataFrame(data)\n",
    "print(\"Integrated Feature Data:\")\n",
    "display(df_multimodal.head())\n"
   ]
  },
  {
   "cell_type": "markdown",
   "id": "b2db7496",
   "metadata": {},
   "source": [
    "## 3. Correlation Analysis\n",
    "\n",
    "We now analyze the relationships between the three features:\n",
    "\n",
    "- **Flag Aspect Ratio**\n",
    "- **Anthem Sentiment Score** (compound score from VADER)\n",
    "- **Anthem Tempo (BPM)**\n",
    "\n",
    "We compute the Pearson correlation coefficient between these features and visualize the correlation matrix."
   ]
  },
  {
   "cell_type": "code",
   "execution_count": 12,
   "id": "4dfb92f1",
   "metadata": {},
   "outputs": [
    {
     "name": "stdout",
     "output_type": "stream",
     "text": [
      "Correlation Matrix:\n"
     ]
    },
    {
     "data": {
      "text/html": [
       "<div>\n",
       "<style scoped>\n",
       "    .dataframe tbody tr th:only-of-type {\n",
       "        vertical-align: middle;\n",
       "    }\n",
       "\n",
       "    .dataframe tbody tr th {\n",
       "        vertical-align: top;\n",
       "    }\n",
       "\n",
       "    .dataframe thead th {\n",
       "        text-align: right;\n",
       "    }\n",
       "</style>\n",
       "<table border=\"1\" class=\"dataframe\">\n",
       "  <thead>\n",
       "    <tr style=\"text-align: right;\">\n",
       "      <th></th>\n",
       "      <th>Aspect_Ratio</th>\n",
       "      <th>Sentiment</th>\n",
       "      <th>Tempo</th>\n",
       "    </tr>\n",
       "  </thead>\n",
       "  <tbody>\n",
       "    <tr>\n",
       "      <th>Aspect_Ratio</th>\n",
       "      <td>1.000000</td>\n",
       "      <td>-0.14795</td>\n",
       "      <td>0.048505</td>\n",
       "    </tr>\n",
       "    <tr>\n",
       "      <th>Sentiment</th>\n",
       "      <td>-0.147950</td>\n",
       "      <td>1.00000</td>\n",
       "      <td>-0.203450</td>\n",
       "    </tr>\n",
       "    <tr>\n",
       "      <th>Tempo</th>\n",
       "      <td>0.048505</td>\n",
       "      <td>-0.20345</td>\n",
       "      <td>1.000000</td>\n",
       "    </tr>\n",
       "  </tbody>\n",
       "</table>\n",
       "</div>"
      ],
      "text/plain": [
       "              Aspect_Ratio  Sentiment     Tempo\n",
       "Aspect_Ratio      1.000000   -0.14795  0.048505\n",
       "Sentiment        -0.147950    1.00000 -0.203450\n",
       "Tempo             0.048505   -0.20345  1.000000"
      ]
     },
     "metadata": {},
     "output_type": "display_data"
    },
    {
     "data": {
      "image/png": "[encoded data removed]",
      "text/plain": [
       "<Figure size 800x600 with 2 Axes>"
      ]
     },
     "metadata": {},
     "output_type": "display_data"
    }
   ],
   "source": [
    "\n",
    "import seaborn as sns\n",
    "import matplotlib.pyplot as plt\n",
    "\n",
    "# Compute correlation matrix\n",
    "correlation_matrix = df_multimodal[[\"Aspect_Ratio\", \"Sentiment\", \"Tempo\"]].corr()\n",
    "print(\"Correlation Matrix:\")\n",
    "display(correlation_matrix)\n",
    "\n",
    "# Visualize the correlation matrix using a heatmap\n",
    "plt.figure(figsize=(8, 6))\n",
    "sns.heatmap(correlation_matrix, annot=True, cmap='coolwarm', fmt=\".2f\")\n",
    "plt.title(\"Correlation Matrix of Multimodal Features\")\n",
    "plt.show()\n"
   ]
  },
  {
   "cell_type": "markdown",
   "id": "51a645e0",
   "metadata": {},
   "source": [
    "## 4. Scatter Plot Analysis\n",
    "\n",
    "We create scatter plots to visualize pairwise relationships between the features.\n",
    "\n",
    "**Examples:**\n",
    "\n",
    "- **Aspect Ratio vs. Sentiment:**  \n",
    "  Does the design of a flag (as indicated by its aspect ratio) relate to the tone of its anthem?\n",
    "\n",
    "- **Sentiment vs. Tempo:**  \n",
    "  Are anthems with higher (or lower) sentiment scores associated with faster (or slower) tempos?\n",
    "\n",
    "- **Aspect Ratio vs. Tempo:**  \n",
    "  Is there any link between flag design and the musical pace of anthems?"
   ]
  },
  {
   "cell_type": "code",
   "execution_count": 6,
   "id": "96266a7c",
   "metadata": {},
   "outputs": [
    {
     "data": {
      "image/png": "[encoded data removed]",
      "text/plain": [
       "<Figure size 800x600 with 1 Axes>"
      ]
     },
     "metadata": {},
     "output_type": "display_data"
    },
    {
     "data": {
      "image/png": "[encoded data removed]",
      "text/plain": [
       "<Figure size 800x600 with 1 Axes>"
      ]
     },
     "metadata": {},
     "output_type": "display_data"
    },
    {
     "data": {
      "image/png": "[encoded data removed]",
      "text/plain": [
       "<Figure size 800x600 with 1 Axes>"
      ]
     },
     "metadata": {},
     "output_type": "display_data"
    }
   ],
   "source": [
    "\n",
    "# Scatter Plot: Aspect Ratio vs. Sentiment\n",
    "plt.figure(figsize=(8, 6))\n",
    "sns.scatterplot(data=df_multimodal, x=\"Aspect_Ratio\", y=\"Sentiment\", hue=\"Country\", legend=False)\n",
    "plt.title(\"Flag Aspect Ratio vs. Anthem Sentiment\")\n",
    "plt.xlabel(\"Aspect Ratio (Width/Height)\")\n",
    "plt.ylabel(\"Anthem Sentiment (Compound Score)\")\n",
    "plt.show()\n",
    "\n",
    "# Scatter Plot: Sentiment vs. Tempo\n",
    "plt.figure(figsize=(8, 6))\n",
    "sns.scatterplot(data=df_multimodal, x=\"Sentiment\", y=\"Tempo\", hue=\"Country\", legend=False)\n",
    "plt.title(\"Anthem Sentiment vs. Tempo\")\n",
    "plt.xlabel(\"Anthem Sentiment (Compound Score)\")\n",
    "plt.ylabel(\"Anthem Tempo (BPM)\")\n",
    "plt.show()\n",
    "\n",
    "# Scatter Plot: Aspect Ratio vs. Tempo\n",
    "plt.figure(figsize=(8, 6))\n",
    "sns.scatterplot(data=df_multimodal, x=\"Aspect_Ratio\", y=\"Tempo\", hue=\"Country\", legend=False)\n",
    "plt.title(\"Flag Aspect Ratio vs. Anthem Tempo\")\n",
    "plt.xlabel(\"Aspect Ratio (Width/Height)\")\n",
    "plt.ylabel(\"Anthem Tempo (BPM)\")\n",
    "plt.show()\n"
   ]
  },
  {
   "cell_type": "markdown",
   "id": "276435cc",
   "metadata": {},
   "source": [
    "## 8. Important Remarks:\n",
    "\n",
    "**Aspect Ratio vs. Sentiment (r = –0.15):**  \n",
    "Slight negative correlation; more elongated flags tend to have marginally lower anthem sentiment, but the effect is weak.\n",
    "\n",
    "**Aspect Ratio vs. Tempo (r = 0.05):**  \n",
    "No meaningful relationship between flag shape and anthem tempo.\n",
    "\n",
    "**Sentiment vs. Tempo (r = –0.20):**  \n",
    "Modest negative correlation; anthems with more negative sentiment may be slightly faster, though the association is weak.\n",
    "\n",
    "### Potential Insights :\n",
    "\n",
    "- The weak correlations indicate that flag aspect ratio, anthem sentiment, and tempo do not share strong linear relationships with the current features.\n",
    "- The modest negative correlation between sentiment and tempo suggests that more somber anthems might be slightly faster, warranting further exploration into underlying rhythmic patterns and cultural influences.\n",
    "\n",
    "### Next Steps :\n",
    "\n",
    "#### Feature Expansion:\n",
    "- **Visual:** Enrich flag analysis with additional features (e.g., color distribution, symbolic elements,CNN features).\n",
    "- **Textual:** Enhance text analysis using techniques like topic modeling and n-gram extraction.\n",
    "- **Audio:** Incorporate further features (e.g., MFCC similarity, key detection, dynamic range).\n",
    "\n",
    "#### Advanced Methods:\n",
    "- Employ machine learning and multivariate analysis to detect non-linear patterns beyond simple correlations.\n",
    "\n",
    "#### Validation & Context:\n",
    "- Collaborate with historians, musicologists, and cultural experts to interpret findings and integrate historical or cultural context.\n",
    "\n",
    "These steps lay the groundwork for deeper multimodal research into the interplay between national symbols, lyrical sentiment, and musical tempo.\n"
   ]
  },
  {
   "cell_type": "markdown",
   "id": "3a11b293",
   "metadata": {},
   "source": [
    "## 9. Multimodal Generative Model \n",
    "\n",
    "Now, we explore a multimodal generative model that learns a joint latent space between\n",
    "flag features (extracted via a pre-trained CNN) and anthem text features.\n",
    "\n",
    "**Workflow:**\n",
    "\n",
    "1. **Flag Feature Extraction:**  \n",
    "   Use a pre-trained VGG16 to extract a high-dimensional feature vector from each flag image.\n",
    "\n",
    "2. **Anthem Text Features:**  \n",
    "   We would extract these features via topic modeling, TF-IDF, or other NLP techniques\n",
    "\n",
    "3. **Conditional Generative Model:**  \n",
    "   Build a Conditional Variational Autoencoder (VAE) that maps flag features to anthem text features.\n",
    "\n",
    "4. **Training and Inference:**  \n",
    "   Train the VAE on the paired data and then generate anthem features from a given flag image.\n",
    "\n",
    "*Note: In a real application, you would replace the synthetic anthem features with your actual extracted features.*"
   ]
  },
  {
   "cell_type": "code",
   "execution_count": 13,
   "id": "9e235c92",
   "metadata": {},
   "outputs": [],
   "source": [
    "import os\n",
    "import numpy as np\n",
    "import pandas as pd\n",
    "from PIL import Image\n",
    "import torch\n",
    "import torch.nn as nn\n",
    "import torch.optim as optim\n",
    "import torchvision.transforms as transforms\n",
    "import torchvision.models as models\n",
    "\n",
    "# Device configuration\n",
    "device = torch.device(\"cuda\" if torch.cuda.is_available() else \"cpu\")\n"
   ]
  },
  {
   "cell_type": "markdown",
   "id": "b4def89d",
   "metadata": {},
   "source": [
    "\n",
    "### 9.1. Flag Feature Extraction using CNN (VGG16)\n",
    "- We load pre-trained VGG16, remove its classifier, and use the convolutional feature extractor to obtain a \n",
    "   feature vector for each flag image. VGG16 outputs a tensor of shape (1, 512, 7, 7) from which we flatten to a vector of size 25088.\n",
    "\n",
    "- The images are resized to 224x224 and normalized using standard ImageNet parameters.\n"
   ]
  },
  {
   "cell_type": "code",
   "execution_count": 15,
   "id": "e1bd710b",
   "metadata": {},
   "outputs": [
    {
     "name": "stdout",
     "output_type": "stream",
     "text": [
      "Extraction starts:\n"
     ]
    },
    {
     "name": "stderr",
     "output_type": "stream",
     "text": [
      "Extracting flag features: 100%|██████████████████████████████████████████████████████| 256/256 [01:44<00:00,  2.45it/s]"
     ]
    },
    {
     "name": "stdout",
     "output_type": "stream",
     "text": [
      "Extracted CNN features for 256 flag images.\n"
     ]
    },
    {
     "name": "stderr",
     "output_type": "stream",
     "text": [
      "\n"
     ]
    }
   ],
   "source": [
    "from tqdm import tqdm\n",
    "# Load pre-trained VGG16 model\n",
    "vgg16 = models.vgg16(pretrained=True)\n",
    "vgg16.eval()\n",
    "vgg16 = vgg16.to(device)\n",
    "\n",
    "# Define a feature extractor that uses VGG16's convolutional layers and avgpool\n",
    "class VGG16FeatureExtractor(nn.Module):\n",
    "    def __init__(self, original_model):\n",
    "        super(VGG16FeatureExtractor, self).__init__()\n",
    "        self.features = original_model.features\n",
    "        self.avgpool = original_model.avgpool\n",
    "        \n",
    "    def forward(self, x):\n",
    "        x = self.features(x)\n",
    "        x = self.avgpool(x)  # shape: (batch, 512, 7, 7)\n",
    "        x = torch.flatten(x, 1)  # shape: (batch, 25088)\n",
    "        return x\n",
    "\n",
    "feature_extractor = VGG16FeatureExtractor(vgg16).to(device)\n",
    "\n",
    "# Define image transformations (resize, normalize)\n",
    "transform = transforms.Compose([\n",
    "    transforms.Resize((224, 224)),\n",
    "    transforms.ToTensor(),\n",
    "    transforms.Normalize(mean=[0.485, 0.456, 0.406],\n",
    "                         std=[0.229, 0.224, 0.225])\n",
    "])\n",
    "\n",
    "# Directory containing flag images (assumes filenames like \"US.png\", \"IN.png\", etc.)\n",
    "flags_dir = \"flags_png\"\n",
    "flag_files = [f for f in os.listdir(flags_dir) if f.endswith('.png')]\n",
    "\n",
    "# Extract CNN features for each flag\n",
    "print(\"Extraction starts:\")\n",
    "flag_features_dict = {}\n",
    "for file in tqdm(flag_files, desc=\"Extracting flag features\"):\n",
    "    try:\n",
    "        image_path = os.path.join(flags_dir, file)\n",
    "        img = Image.open(image_path).convert(\"RGB\")\n",
    "        img_tensor = transform(img).unsqueeze(0).to(device)\n",
    "        with torch.no_grad():\n",
    "            features = feature_extractor(img_tensor)\n",
    "        features_np = features.cpu().numpy().squeeze()  # shape: (25088,)\n",
    "        country = file.split('.')[0].upper()\n",
    "        flag_features_dict[country] = features_np\n",
    "    except Exception as e:\n",
    "        print(f\"Error processing {file}: {e}\")\n",
    "\n",
    "\n",
    "print(\"Extracted CNN features for\", len(flag_features_dict), \"flag images.\")"
   ]
  },
  {
   "cell_type": "markdown",
   "id": "5b634aa3",
   "metadata": {},
   "source": [
    "### 9.2. Anthem Text Features\n",
    "\n",
    "- we would extract these features via topic modeling, TF-IDF, or other NLP techniques."
   ]
  },
  {
   "cell_type": "code",
   "execution_count": 34,
   "id": "302f11a8",
   "metadata": {},
   "outputs": [
    {
     "name": "stdout",
     "output_type": "stream",
     "text": [
      "Extracting anthem features for 228 countries.\n",
      "TF-IDF matrix shape: (228, 3894)\n",
      "Reduced anthem features shape: (228, 50)\n",
      "Anthem features for AD:\n",
      "[ 0.09802485  0.00650333 -0.03087962 -0.045021    0.00178727  0.00713596\n",
      " -0.04850346 -0.03730409 -0.07690495 -0.07298138  0.01471234 -0.02134433\n",
      "  0.08428249  0.02845756  0.0371708   0.04838837  0.10214384 -0.05122312\n",
      " -0.13269994 -0.0033778   0.043104    0.00618156 -0.03211991  0.15265327\n",
      " -0.13836917 -0.00407422  0.06555674 -0.03186014 -0.01838064  0.01840918\n",
      " -0.04859675 -0.06036152  0.03537894 -0.09344125 -0.07218755 -0.00650795\n",
      " -0.00608266  0.18602835  0.07428991 -0.08046062  0.01351952 -0.04322287\n",
      "  0.00225003 -0.02343933 -0.08883436  0.04413803  0.09587081  0.09105054\n",
      "  0.24418886 -0.07899928]\n"
     ]
    }
   ],
   "source": [
    "import json\n",
    "import re\n",
    "import numpy as np\n",
    "import pandas as pd\n",
    "from sklearn.feature_extraction.text import TfidfVectorizer\n",
    "from sklearn.decomposition import TruncatedSVD\n",
    "\n",
    "# Load anthem translations from the JSON file\n",
    "with open(\"anthem_translations.json\", \"r\", encoding=\"utf-8\") as f:\n",
    "    anthem_translations = json.load(f)\n",
    "\n",
    "# Convert keys in anthem_translations to uppercase for consistency\n",
    "anthem_translations_upper = {k.upper(): v for k, v in anthem_translations.items()}\n",
    "\n",
    "# Preprocessing function: lowercase, remove non-alphabetic characters, and extra spaces\n",
    "def preprocess_text(text):\n",
    "    text = text.lower()\n",
    "    text = re.sub(r'[^a-z\\s]', ' ', text)\n",
    "    text = re.sub(r'\\s+', ' ', text)\n",
    "    return text.strip()\n",
    "\n",
    "# Assume flag_features_dict is already defined from flag CNN extraction.\n",
    "# We only extract anthem features for countries that have flag features.\n",
    "countries = list(flag_features_dict.keys())\n",
    "\n",
    "# Build the documents list, filtering by countries that have an anthem translation available.\n",
    "documents = []\n",
    "countries_filtered = []\n",
    "for country in countries:\n",
    "    country_key = country.upper()  # Ensure the country code is in uppercase\n",
    "    if country_key in anthem_translations_upper:\n",
    "        processed_text = preprocess_text(anthem_translations_upper[country_key])\n",
    "        documents.append(processed_text)\n",
    "        countries_filtered.append(country_key)\n",
    "\n",
    "print(f\"Extracting anthem features for {len(documents)} countries.\")\n",
    "\n",
    "# Create TF-IDF matrix from the documents\n",
    "vectorizer = TfidfVectorizer(stop_words='english', max_features=5000)\n",
    "tfidf_matrix = vectorizer.fit_transform(documents)\n",
    "\n",
    "print(\"TF-IDF matrix shape:\", tfidf_matrix.shape)\n",
    "\n",
    "# Reduce the TF-IDF features to 20 dimensions using Truncated SVD\n",
    "n_components = 50\n",
    "svd = TruncatedSVD(n_components=n_components, random_state=42)\n",
    "anthem_features_reduced = svd.fit_transform(tfidf_matrix)\n",
    "\n",
    "print(\"Reduced anthem features shape:\", anthem_features_reduced.shape)\n",
    "\n",
    "# Create a dictionary mapping each country to its 20-dimensional anthem feature vector\n",
    "anthem_text_features_dict = {}\n",
    "for i, country in enumerate(countries_filtered):\n",
    "    anthem_text_features_dict[country] = anthem_features_reduced[i]\n",
    "\n",
    "# Example: Display the feature vector for one country\n",
    "if countries_filtered:\n",
    "    sample_country = countries_filtered[0]\n",
    "    print(f\"Anthem features for {sample_country}:\")\n",
    "    print(anthem_text_features_dict[sample_country])\n",
    "else:\n",
    "    print(\"No countries with matching anthem translations found.\")\n"
   ]
  },
  {
   "cell_type": "markdown",
   "id": "36e871e3",
   "metadata": {},
   "source": [
    "### 9.3. Data Preparation for Conditional VAE\n",
    "- We prepare the paired dataset for countries where we have both CNN-extracted flag features and anthem text features.\n",
    "- The flag feature dimension is 25088 (from VGG16), and the anthem feature dimension is 20.\n"
   ]
  },
  {
   "cell_type": "code",
   "execution_count": 37,
   "id": "f58a6fa1",
   "metadata": {},
   "outputs": [
    {
     "name": "stdout",
     "output_type": "stream",
     "text": [
      "Number of common countries: 228\n",
      "Flag features shape: (228, 25088)\n",
      "Anthem features shape: (228, 50)\n"
     ]
    }
   ],
   "source": [
    "# Compute the common countries between flag features and anthem text features\n",
    "common_countries = list(set(flag_features_dict.keys()).intersection(anthem_text_features_dict.keys()))\n",
    "\n",
    "# Extract the features for these common countries\n",
    "flag_features = np.array([flag_features_dict[c] for c in common_countries])\n",
    "anthem_features = np.array([anthem_text_features_dict[c] for c in common_countries])\n",
    "\n",
    "print(\"Number of common countries:\", len(common_countries))\n",
    "print(\"Flag features shape:\", flag_features.shape)       # Expected: (num_samples, 25088)\n",
    "print(\"Anthem features shape:\", anthem_features.shape)     # Expected: (num_samples, 20)\n"
   ]
  },
  {
   "cell_type": "markdown",
   "id": "9020c6b3",
   "metadata": {},
   "source": [
    "### 9.4. Conditional VAE: Mapping Flag Features to Anthem Text Features\n",
    "- We define a conditional VAE model with:\n",
    "    - **Encoder:** Maps flag features to a latent space (latent dimension chosen as 64).\n",
    "    - **Decoder:** Generates anthem text features from the latent representation.\n"
   ]
  },
  {
   "cell_type": "code",
   "execution_count": 38,
   "id": "8850e474",
   "metadata": {},
   "outputs": [],
   "source": [
    "\n",
    "# Define the encoder for flag features\n",
    "class Encoder(nn.Module):\n",
    "    def __init__(self, input_dim, latent_dim):\n",
    "        super(Encoder, self).__init__()\n",
    "        self.fc = nn.Sequential(\n",
    "            nn.Linear(input_dim, 512),\n",
    "            nn.ReLU(),\n",
    "            nn.Linear(512, 128),\n",
    "            nn.ReLU()\n",
    "        )\n",
    "        self.mu = nn.Linear(128, latent_dim)\n",
    "        self.logvar = nn.Linear(128, latent_dim)\n",
    "    \n",
    "    def forward(self, x):\n",
    "        h = self.fc(x)\n",
    "        return self.mu(h), self.logvar(h)\n",
    "\n",
    "# Define the decoder to generate anthem text features\n",
    "class Decoder(nn.Module):\n",
    "    def __init__(self, latent_dim, output_dim):\n",
    "        super(Decoder, self).__init__()\n",
    "        self.fc = nn.Sequential(\n",
    "            nn.Linear(latent_dim, 128),\n",
    "            nn.ReLU(),\n",
    "            nn.Linear(128, 512),\n",
    "            nn.ReLU(),\n",
    "            nn.Linear(512, output_dim)\n",
    "        )\n",
    "    \n",
    "    def forward(self, z):\n",
    "        return self.fc(z)\n",
    "\n",
    "# Define the Conditional VAE combining encoder and decoder\n",
    "class ConditionalVAE(nn.Module):\n",
    "    def __init__(self, input_dim, output_dim, latent_dim):\n",
    "        super(ConditionalVAE, self).__init__()\n",
    "        self.encoder = Encoder(input_dim, latent_dim)\n",
    "        self.decoder = Decoder(latent_dim, output_dim)\n",
    "    \n",
    "    def reparameterize(self, mu, logvar):\n",
    "        std = torch.exp(0.5 * logvar)\n",
    "        eps = torch.randn_like(std)\n",
    "        return mu + eps * std\n",
    "    \n",
    "    def forward(self, x):\n",
    "        mu, logvar = self.encoder(x)\n",
    "        z = self.reparameterize(mu, logvar)\n",
    "        recon = self.decoder(z)\n",
    "        return recon, mu, logvar\n",
    "\n",
    "flag_input_dim = flag_features.shape[1]  # 25088 from CNN\n",
    "latent_dim = 64\n",
    "anthem_feature_dim=anthem_features.shape[1]\n",
    "anthem_output_dim = anthem_feature_dim   # 20\n",
    "\n",
    "model = ConditionalVAE(flag_input_dim, anthem_output_dim, latent_dim).to(device)\n"
   ]
  },
  {
   "cell_type": "markdown",
   "id": "94bbcb04",
   "metadata": {},
   "source": [
    "### 9.5. Training the Conditional VAE\n",
    "- We use a loss function that combines the Mean Squared Error (reconstruction loss) and the KL divergence loss to regularize the latent space.\n"
   ]
  },
  {
   "cell_type": "code",
   "execution_count": 39,
   "id": "42ed8e30",
   "metadata": {},
   "outputs": [
    {
     "name": "stdout",
     "output_type": "stream",
     "text": [
      "Epoch 10/200, Loss: 128.25\n",
      "Epoch 20/200, Loss: 110.69\n",
      "Epoch 30/200, Loss: 99.14\n",
      "Epoch 40/200, Loss: 92.97\n",
      "Epoch 50/200, Loss: 86.32\n",
      "Epoch 60/200, Loss: 83.69\n",
      "Epoch 70/200, Loss: 81.91\n",
      "Epoch 80/200, Loss: 80.70\n",
      "Epoch 90/200, Loss: 80.63\n",
      "Epoch 100/200, Loss: 79.82\n",
      "Epoch 110/200, Loss: 79.90\n",
      "Epoch 120/200, Loss: 79.62\n",
      "Epoch 130/200, Loss: 79.00\n",
      "Epoch 140/200, Loss: 79.18\n",
      "Epoch 150/200, Loss: 79.57\n",
      "Epoch 160/200, Loss: 79.08\n",
      "Epoch 170/200, Loss: 78.61\n",
      "Epoch 180/200, Loss: 78.54\n",
      "Epoch 190/200, Loss: 78.05\n",
      "Epoch 200/200, Loss: 78.33\n"
     ]
    }
   ],
   "source": [
    "def loss_function(recon, target, mu, logvar):\n",
    "    recon_loss = nn.functional.mse_loss(recon, target, reduction='sum')\n",
    "    kl_loss = -0.5 * torch.sum(1 + logvar - mu.pow(2) - logvar.exp())\n",
    "    return recon_loss + kl_loss\n",
    "\n",
    "# Convert data to PyTorch tensors\n",
    "flag_tensor = torch.tensor(flag_features, dtype=torch.float32).to(device)\n",
    "anthem_tensor = torch.tensor(anthem_features, dtype=torch.float32).to(device)\n",
    "\n",
    "optimizer = optim.Adam(model.parameters(), lr=1e-3)\n",
    "num_epochs = 200\n",
    "\n",
    "for epoch in range(num_epochs):\n",
    "    model.train()\n",
    "    optimizer.zero_grad()\n",
    "    recon, mu, logvar = model(flag_tensor)\n",
    "    loss = loss_function(recon, anthem_tensor, mu, logvar)\n",
    "    loss.backward()\n",
    "    optimizer.step()\n",
    "    \n",
    "    if (epoch+1) % 10 == 0:\n",
    "        print(f\"Epoch {epoch+1}/{num_epochs}, Loss: {loss.item():.2f}\")\n",
    "\n"
   ]
  },
  {
   "cell_type": "markdown",
   "id": "e74b0244",
   "metadata": {},
   "source": [
    "### 9.6. Inference: Generating Anthem Features from Flag Features\n",
    "\n",
    "- After training, we can use the model to generate anthem text features from a given flag image.\n"
   ]
  },
  {
   "cell_type": "code",
   "execution_count": 41,
   "id": "796b08de",
   "metadata": {},
   "outputs": [
    {
     "name": "stdout",
     "output_type": "stream",
     "text": [
      "Using flag features for country: US\n",
      "Generated Anthem Feature Vector (from flag US):\n",
      "[[ 1.7151870e-01  1.1681246e-02 -9.0513006e-04 -4.9238838e-04\n",
      "   4.6428442e-03  5.3954246e-03 -1.3943499e-02 -2.7549081e-04\n",
      "  -1.2670504e-03 -1.0410687e-02  3.7735568e-03  2.1585384e-03\n",
      "   9.5365942e-04 -7.0372522e-03  5.2326480e-03 -3.6658819e-03\n",
      "  -7.0189936e-03  1.4699530e-04  1.9830652e-05 -2.1993741e-04\n",
      "  -4.4302372e-03 -2.3103096e-03 -9.2147924e-03  1.1903699e-03\n",
      "  -7.5171217e-03 -5.3802095e-03  5.0895326e-03  3.4193210e-03\n",
      "  -5.8389376e-03  4.6754740e-03 -5.2341530e-03  1.7708436e-02\n",
      "  -4.1274093e-03 -3.2084621e-03  1.1582559e-03  2.5184397e-03\n",
      "  -8.6963838e-03 -1.2640467e-02 -6.3948687e-03  4.9044304e-03\n",
      "   1.2525893e-02  1.1627292e-02 -2.3566177e-03 -2.2244328e-03\n",
      "   6.9275685e-04 -1.2827741e-02  7.2541535e-03 -5.5585988e-03\n",
      "   4.9586538e-03  1.6403728e-03]]\n",
      "Anthem features for US:\n",
      "[ 0.22509769  0.01546112 -0.00799116 -0.16336491  0.1965728  -0.04142375\n",
      " -0.06911315 -0.02252521  0.02284189 -0.04438274 -0.05241755  0.04419687\n",
      "  0.17419342  0.04402741 -0.11250139  0.06099993 -0.09788052  0.01821238\n",
      " -0.17951859  0.10303211 -0.03214638 -0.0517054   0.12667398 -0.00741031\n",
      "  0.05636849  0.00762481 -0.19629138 -0.09535457 -0.01777125 -0.17248834\n",
      "  0.0227033  -0.05130202  0.12150298  0.04219573 -0.02238727  0.14386133\n",
      " -0.00929054  0.06238912 -0.06029079 -0.09994745 -0.07237346 -0.00974862\n",
      " -0.11394774 -0.09955026 -0.0169778  -0.03097846  0.0241824  -0.04814406\n",
      " -0.03496722  0.05367281]\n",
      "Euclidean distance between generated and original anthem features for US: 0.6235\n",
      "Cosine similarity between generated and original anthem features for US: 0.3031\n"
     ]
    }
   ],
   "source": [
    "# Choose a specific flag from our dataset (e.g., \"US\" if available, otherwise the first available flag)\n",
    "country_code = \"US\" if \"US\" in flag_features_dict else list(flag_features_dict.keys())[0]\n",
    "print(f\"Using flag features for country: {country_code}\")\n",
    "\n",
    "# Convert the selected flag's feature vector to a PyTorch tensor\n",
    "sample_flag_feature = torch.tensor(flag_features_dict[country_code], dtype=torch.float32).unsqueeze(0).to(device)\n",
    "\n",
    "# Evaluate the model using the real flag features\n",
    "model.eval()\n",
    "with torch.no_grad():\n",
    "    generated_anthem_feature, _, _ = model(sample_flag_feature)\n",
    "    print(f\"Generated Anthem Feature Vector (from flag {country_code}):\")\n",
    "    generated = generated_anthem_feature.cpu().numpy()\n",
    "    print(generated)\n",
    "    \n",
    "# Use \"US\" as the sample country for the original anthem features\n",
    "sample_country = \"US\"\n",
    "print(f\"Anthem features for {sample_country}:\")\n",
    "original = anthem_text_features_dict[sample_country]\n",
    "print(original)\n",
    "\n",
    "# Compute Euclidean distance between the generated and original feature vectors\n",
    "euclidean_distance = np.linalg.norm(generated - original)\n",
    "print(f\"Euclidean distance between generated and original anthem features for {sample_country}: {euclidean_distance:.4f}\")\n",
    "\n",
    "# Compute cosine similarity between the generated and original feature vectors\n",
    "cosine_similarity = np.dot(generated.flatten(), original) / (np.linalg.norm(generated.flatten()) * np.linalg.norm(original))\n",
    "print(f\"Cosine similarity between generated and original anthem features for {sample_country}: {cosine_similarity:.4f}\")\n"
   ]
  },
  {
   "cell_type": "markdown",
   "id": "abdfdd40",
   "metadata": {},
   "source": [
    "# Conclusion\n",
    "\n",
    "- **Generated vs. Original Anthem Features:**  \n",
    "  The generated anthem feature vector (derived from the US flag features) differs from the original TF-IDF-based anthem feature vector.  \n",
    "  - **Euclidean Distance:** 0.6235  \n",
    "  - **Cosine Similarity:** 0.3031\n",
    "\n",
    "- **Interpretation:**  \n",
    "  These quantitative metrics indicate that the current generative model's mapping from flag features to anthem text features is not very close.  \n",
    "  - A **Euclidean distance** of 0.6235 suggests a noticeable difference in the feature space.  \n",
    "  - A **cosine similarity** of 0.3031 (where 1.0 would be identical) further confirms that the generated and original features have low directional alignment.\n",
    "\n",
    "- **Implications:**  \n",
    "  The weak alignment between the generated and original features implies that:\n",
    "  - The current model architecture and training may require further refinement.\n",
    "  - More comprehensive feature extraction (both from flags and anthem texts) could enhance the mapping.\n",
    "  - Additional data, more advanced models (e.g., conditional GANs or transformer-based approaches), and deeper integration of multimodal cues might be necessary to improve cross-modal generation.\n",
    "\n",
    "- **Next Steps:**  \n",
    "  - **Feature Enhancement:** Incorporate richer visual features (e.g., color histograms, symbolic elements) and more nuanced text representations (e.g., topic models or contextual embeddings).\n",
    "  - **Model Improvement:** Experiment with advanced generative frameworks and non-linear mapping techniques.\n",
    "  - **Validation:** Work with domain experts to validate the cultural and historical relevance of the generated outputs.\n",
    "\n",
    "Overall, while this preliminary study establishes a framework for cross-modal generation between flag images and anthem texts, significant work remains to achieve a robust and meaningful multimodal generative model.\n"
   ]
  },
  {
   "cell_type": "code",
   "execution_count": null,
   "id": "45d81104",
   "metadata": {},
   "outputs": [],
   "source": []
  }
 ],
 "metadata": {
  "kernelspec": {
   "display_name": "Python 3 (ipykernel)",
   "language": "python",
   "name": "python3"
  },
  "language_info": {
   "codemirror_mode": {
    "name": "ipython",
    "version": 3
   },
   "file_extension": ".py",
   "mimetype": "text/x-python",
   "name": "python",
   "nbconvert_exporter": "python",
   "pygments_lexer": "ipython3",
   "version": "3.11.5"
  }
 },
 "nbformat": 4,
 "nbformat_minor": 5
}
